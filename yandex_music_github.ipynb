{
 "cells": [
  {
   "cell_type": "markdown",
   "metadata": {
    "id": "E0vqbgi9ay0H"
   },
   "source": [
    "# Яндекс.Музыка"
   ]
  },
  {
   "cell_type": "markdown",
   "metadata": {
    "id": "VUC88oWjTJw2"
   },
   "source": [
    "Сравнение Москвы и Петербурга окружено мифами. Например:\n",
    " * Москва — мегаполис, подчинённый жёсткому ритму рабочей недели;\n",
    " * Петербург — культурная столица, со своими вкусами.\n",
    "\n",
    "На данных Яндекс.Музыки мы сравниваем поведение пользователей двух столиц.\n",
    "\n",
    "**Цель исследования** — проверить три гипотезы:\n",
    "1. Активность пользователей зависит от дня недели. Причём в Москве и Петербурге это проявляется по-разному.\n",
    "2. В понедельник утром в Москве преобладают одни жанры, а в Петербурге — другие. Так же и вечером пятницы преобладают разные жанры — в зависимости от города. \n",
    "3. Москва и Петербург предпочитают разные жанры музыки. В Москве чаще слушают поп-музыку, в Петербурге — русский рэп.\n",
    "\n",
    "**Ход исследования**\n",
    "\n",
    "Данные о поведении пользователей мы получили из файла `yandex_music_project.csv`. О качестве данных ничего не известно. Поэтому перед проверкой гипотез понадобится обзор данных. \n",
    "\n",
    "Мы проверяем данные на ошибки и оцениваем их влияние на исследование. Затем, на этапе предобработки мы ищем возможность исправить самые критичные ошибки данных.\n",
    " \n",
    "Таким образом, исследование пройдёт в три этапа:\n",
    " 1. Обзор данных.\n",
    " 2. Предобработка данных.\n",
    " 3. Проверка гипотез.\n",
    "\n"
   ]
  },
  {
   "cell_type": "markdown",
   "metadata": {
    "id": "Ml1hmfXC_Zcs"
   },
   "source": [
    "## Обзор данных\n",
    "\n",
    "Составляем первое представление о данных Яндекс.Музыки.\n",
    "\n",
    "\n"
   ]
  },
  {
   "cell_type": "markdown",
   "metadata": {
    "id": "57eAOGIz_Zcs"
   },
   "source": [
    "Импортируем библиотеку."
   ]
  },
  {
   "cell_type": "code",
   "execution_count": 1,
   "metadata": {
    "id": "AXN7PHPN_Zcs"
   },
   "outputs": [],
   "source": [
    "import pandas as pd"
   ]
  },
  {
   "cell_type": "code",
   "execution_count": 2,
   "metadata": {
    "id": "fFVu7vqh_Zct"
   },
   "outputs": [],
   "source": [
    "df = pd.read_csv('/datasets/yandex_music_project.csv')\n",
    "df.to_csv('yandex_music_project.csv', index=False) "
   ]
  },
  {
   "cell_type": "code",
   "execution_count": 3,
   "metadata": {
    "id": "oWTVX3gW_Zct"
   },
   "outputs": [
    {
     "data": {
      "text/html": [
       "<div>\n",
       "<style scoped>\n",
       "    .dataframe tbody tr th:only-of-type {\n",
       "        vertical-align: middle;\n",
       "    }\n",
       "\n",
       "    .dataframe tbody tr th {\n",
       "        vertical-align: top;\n",
       "    }\n",
       "\n",
       "    .dataframe thead th {\n",
       "        text-align: right;\n",
       "    }\n",
       "</style>\n",
       "<table border=\"1\" class=\"dataframe\">\n",
       "  <thead>\n",
       "    <tr style=\"text-align: right;\">\n",
       "      <th></th>\n",
       "      <th>userID</th>\n",
       "      <th>Track</th>\n",
       "      <th>artist</th>\n",
       "      <th>genre</th>\n",
       "      <th>City</th>\n",
       "      <th>time</th>\n",
       "      <th>Day</th>\n",
       "    </tr>\n",
       "  </thead>\n",
       "  <tbody>\n",
       "    <tr>\n",
       "      <th>0</th>\n",
       "      <td>FFB692EC</td>\n",
       "      <td>Kamigata To Boots</td>\n",
       "      <td>The Mass Missile</td>\n",
       "      <td>rock</td>\n",
       "      <td>Saint-Petersburg</td>\n",
       "      <td>20:28:33</td>\n",
       "      <td>Wednesday</td>\n",
       "    </tr>\n",
       "    <tr>\n",
       "      <th>1</th>\n",
       "      <td>55204538</td>\n",
       "      <td>Delayed Because of Accident</td>\n",
       "      <td>Andreas Rönnberg</td>\n",
       "      <td>rock</td>\n",
       "      <td>Moscow</td>\n",
       "      <td>14:07:09</td>\n",
       "      <td>Friday</td>\n",
       "    </tr>\n",
       "    <tr>\n",
       "      <th>2</th>\n",
       "      <td>20EC38</td>\n",
       "      <td>Funiculì funiculà</td>\n",
       "      <td>Mario Lanza</td>\n",
       "      <td>pop</td>\n",
       "      <td>Saint-Petersburg</td>\n",
       "      <td>20:58:07</td>\n",
       "      <td>Wednesday</td>\n",
       "    </tr>\n",
       "    <tr>\n",
       "      <th>3</th>\n",
       "      <td>A3DD03C9</td>\n",
       "      <td>Dragons in the Sunset</td>\n",
       "      <td>Fire + Ice</td>\n",
       "      <td>folk</td>\n",
       "      <td>Saint-Petersburg</td>\n",
       "      <td>08:37:09</td>\n",
       "      <td>Monday</td>\n",
       "    </tr>\n",
       "    <tr>\n",
       "      <th>4</th>\n",
       "      <td>E2DC1FAE</td>\n",
       "      <td>Soul People</td>\n",
       "      <td>Space Echo</td>\n",
       "      <td>dance</td>\n",
       "      <td>Moscow</td>\n",
       "      <td>08:34:34</td>\n",
       "      <td>Monday</td>\n",
       "    </tr>\n",
       "    <tr>\n",
       "      <th>5</th>\n",
       "      <td>842029A1</td>\n",
       "      <td>Преданная</td>\n",
       "      <td>IMPERVTOR</td>\n",
       "      <td>rusrap</td>\n",
       "      <td>Saint-Petersburg</td>\n",
       "      <td>13:09:41</td>\n",
       "      <td>Friday</td>\n",
       "    </tr>\n",
       "    <tr>\n",
       "      <th>6</th>\n",
       "      <td>4CB90AA5</td>\n",
       "      <td>True</td>\n",
       "      <td>Roman Messer</td>\n",
       "      <td>dance</td>\n",
       "      <td>Moscow</td>\n",
       "      <td>13:00:07</td>\n",
       "      <td>Wednesday</td>\n",
       "    </tr>\n",
       "    <tr>\n",
       "      <th>7</th>\n",
       "      <td>F03E1C1F</td>\n",
       "      <td>Feeling This Way</td>\n",
       "      <td>Polina Griffith</td>\n",
       "      <td>dance</td>\n",
       "      <td>Moscow</td>\n",
       "      <td>20:47:49</td>\n",
       "      <td>Wednesday</td>\n",
       "    </tr>\n",
       "    <tr>\n",
       "      <th>8</th>\n",
       "      <td>8FA1D3BE</td>\n",
       "      <td>И вновь продолжается бой</td>\n",
       "      <td>NaN</td>\n",
       "      <td>ruspop</td>\n",
       "      <td>Moscow</td>\n",
       "      <td>09:17:40</td>\n",
       "      <td>Friday</td>\n",
       "    </tr>\n",
       "    <tr>\n",
       "      <th>9</th>\n",
       "      <td>E772D5C0</td>\n",
       "      <td>Pessimist</td>\n",
       "      <td>NaN</td>\n",
       "      <td>dance</td>\n",
       "      <td>Saint-Petersburg</td>\n",
       "      <td>21:20:49</td>\n",
       "      <td>Wednesday</td>\n",
       "    </tr>\n",
       "  </tbody>\n",
       "</table>\n",
       "</div>"
      ],
      "text/plain": [
       "     userID                        Track            artist   genre  \\\n",
       "0  FFB692EC            Kamigata To Boots  The Mass Missile    rock   \n",
       "1  55204538  Delayed Because of Accident  Andreas Rönnberg    rock   \n",
       "2    20EC38            Funiculì funiculà       Mario Lanza     pop   \n",
       "3  A3DD03C9        Dragons in the Sunset        Fire + Ice    folk   \n",
       "4  E2DC1FAE                  Soul People        Space Echo   dance   \n",
       "5  842029A1                    Преданная         IMPERVTOR  rusrap   \n",
       "6  4CB90AA5                         True      Roman Messer   dance   \n",
       "7  F03E1C1F             Feeling This Way   Polina Griffith   dance   \n",
       "8  8FA1D3BE     И вновь продолжается бой               NaN  ruspop   \n",
       "9  E772D5C0                    Pessimist               NaN   dance   \n",
       "\n",
       "             City        time        Day  \n",
       "0  Saint-Petersburg  20:28:33  Wednesday  \n",
       "1            Moscow  14:07:09     Friday  \n",
       "2  Saint-Petersburg  20:58:07  Wednesday  \n",
       "3  Saint-Petersburg  08:37:09     Monday  \n",
       "4            Moscow  08:34:34     Monday  \n",
       "5  Saint-Petersburg  13:09:41     Friday  \n",
       "6            Moscow  13:00:07  Wednesday  \n",
       "7            Moscow  20:47:49  Wednesday  \n",
       "8            Moscow  09:17:40     Friday  \n",
       "9  Saint-Petersburg  21:20:49  Wednesday  "
      ]
     },
     "execution_count": 3,
     "metadata": {},
     "output_type": "execute_result"
    }
   ],
   "source": [
    "df.head(10)"
   ]
  },
  {
   "cell_type": "code",
   "execution_count": 4,
   "metadata": {
    "id": "DSf2kIb-_Zct"
   },
   "outputs": [
    {
     "name": "stdout",
     "output_type": "stream",
     "text": [
      "<class 'pandas.core.frame.DataFrame'>\n",
      "RangeIndex: 65079 entries, 0 to 65078\n",
      "Data columns (total 7 columns):\n",
      " #   Column    Non-Null Count  Dtype \n",
      "---  ------    --------------  ----- \n",
      " 0     userID  65079 non-null  object\n",
      " 1   Track     63848 non-null  object\n",
      " 2   artist    57876 non-null  object\n",
      " 3   genre     63881 non-null  object\n",
      " 4     City    65079 non-null  object\n",
      " 5   time      65079 non-null  object\n",
      " 6   Day       65079 non-null  object\n",
      "dtypes: object(7)\n",
      "memory usage: 3.5+ MB\n"
     ]
    }
   ],
   "source": [
    "df.info()"
   ]
  },
  {
   "cell_type": "markdown",
   "metadata": {
    "id": "TaQ2Iwbr_Zct"
   },
   "source": [
    "В таблице семь столбцов. Тип данных во всех столбцах — `object`.\n",
    "\n",
    "Согласно документации к данным:\n",
    "* `userID` — идентификатор пользователя;\n",
    "* `Track` — название трека;  \n",
    "* `artist` — имя исполнителя;\n",
    "* `genre` — название жанра;\n",
    "* `City` — город пользователя;\n",
    "* `time` — время начала прослушивания;\n",
    "* `Day` — день недели.\n",
    "\n",
    "В названиях колонок видны три нарушения стиля:\n",
    "1. Строчные буквы сочетаются с прописными.\n",
    "2. Встречаются пробелы.\n",
    "3. Найдите ещё одну проблему в названии колонок и опишите её в этом пункте. **Проблема \"вербьюжего\" языка**\n",
    "\n",
    "\n",
    "\n",
    "Количество значений в столбцах различается. Значит, в данных есть пропущенные значения.\n"
   ]
  },
  {
   "cell_type": "markdown",
   "metadata": {
    "id": "MCB6-dXG_Zct"
   },
   "source": [
    "**Выводы**\n",
    "\n",
    "В каждой строке таблицы — данные о прослушанном треке. Часть колонок описывает саму композицию: название, исполнителя и жанр. Остальные данные рассказывают о пользователе: из какого он города, когда он слушал музыку. \n",
    "\n",
    "Предварительно можно утверждать, что, данных достаточно для проверки гипотез. Но встречаются пропуски в данных, а в названиях колонок — расхождения с хорошим стилем.\n",
    "\n",
    "Чтобы двигаться дальше, нужно устранить проблемы в данных."
   ]
  },
  {
   "cell_type": "markdown",
   "metadata": {
    "id": "SjYF6Ub9_Zct"
   },
   "source": [
    "## Предобработка данных\n",
    "Исправляем стиль в заголовках столбцов, исключаем пропуски. Затем проверяем данные на дубликаты."
   ]
  },
  {
   "cell_type": "markdown",
   "metadata": {
    "id": "dIaKXr29_Zct"
   },
   "source": [
    "### Стиль заголовков\n",
    "Выводим на экран названия столбцов:"
   ]
  },
  {
   "cell_type": "code",
   "execution_count": 5,
   "metadata": {
    "id": "oKOTdF_Q_Zct"
   },
   "outputs": [
    {
     "data": {
      "text/plain": [
       "Index(['  userID', 'Track', 'artist', 'genre', '  City  ', 'time', 'Day'], dtype='object')"
      ]
     },
     "metadata": {},
     "output_type": "display_data"
    }
   ],
   "source": [
    "display(df.columns) # перечень названий столбцов таблицы df"
   ]
  },
  {
   "cell_type": "markdown",
   "metadata": {
    "id": "zj5534cv_Zct"
   },
   "source": [
    "Приводим названия в соответствие:\n",
    "* несколько слов в названии запишите в «змеином_регистре»,\n",
    "* все символы сделайте строчными,\n",
    "* устраните пробелы."
   ]
  },
  {
   "cell_type": "code",
   "execution_count": 6,
   "metadata": {
    "id": "ISlFqs5y_Zct"
   },
   "outputs": [],
   "source": [
    "df = df.rename(columns={'  userID':'user_id', 'Track':'track', '  City  ':'city', 'Day':'day'})"
   ]
  },
  {
   "cell_type": "markdown",
   "metadata": {
    "id": "1dqbh00J_Zct"
   },
   "source": [
    "Проверяем результат. Для этого ещё раз выводим на экран названия столбцов:"
   ]
  },
  {
   "cell_type": "code",
   "execution_count": 7,
   "metadata": {
    "id": "d4NOAmTW_Zct"
   },
   "outputs": [
    {
     "data": {
      "text/plain": [
       "Index(['user_id', 'track', 'artist', 'genre', 'city', 'time', 'day'], dtype='object')"
      ]
     },
     "metadata": {},
     "output_type": "display_data"
    }
   ],
   "source": [
    "display(df.columns)"
   ]
  },
  {
   "cell_type": "markdown",
   "metadata": {
    "id": "5ISfbcfY_Zct"
   },
   "source": [
    "### Пропуски значений\n",
    "Считаем количество пропущенных значений. "
   ]
  },
  {
   "cell_type": "code",
   "execution_count": 8,
   "metadata": {
    "id": "RskX29qr_Zct"
   },
   "outputs": [
    {
     "data": {
      "text/plain": [
       "user_id       0\n",
       "track      1231\n",
       "artist     7203\n",
       "genre      1198\n",
       "city          0\n",
       "time          0\n",
       "day           0\n",
       "dtype: int64"
      ]
     },
     "metadata": {},
     "output_type": "display_data"
    }
   ],
   "source": [
    "display(df.isna().sum()) # подсчёт пропусков"
   ]
  },
  {
   "cell_type": "markdown",
   "metadata": {
    "id": "qubhgnlO_Zct"
   },
   "source": [
    "\n",
    "Не все пропущенные значения влияют на исследование. Так в `track` и `artist` пропуски не важны для нашей работы. Достаточно заменить их явными обозначениями.\n",
    "\n",
    "Но пропуски в `genre` могут помешать сравнению музыкальных вкусов в Москве и Санкт-Петербурге.Поэтому:\n",
    "* заполним эти пропуски явными обозначениями,\n",
    "* оценим, насколько они повредят расчётам. "
   ]
  },
  {
   "cell_type": "markdown",
   "metadata": {
    "id": "fSv2laPA_Zct"
   },
   "source": [
    "Заменим пропущенные значения в столбцах `track`, `artist` и `genre` на строку `'unknown'`. Для этого создадим список `columns_to_replace`, переберем его элементы циклом `for` и для каждого столбца выполним замену пропущенных значений:"
   ]
  },
  {
   "cell_type": "code",
   "execution_count": 9,
   "metadata": {
    "id": "KplB5qWs_Zct"
   },
   "outputs": [],
   "source": [
    "column_to_replace = ['track', 'artist', 'genre']\n",
    "for i in column_to_replace:\n",
    "    df[i] = df[i].fillna('unknown')"
   ]
  },
  {
   "cell_type": "markdown",
   "metadata": {
    "id": "Ilsm-MZo_Zct"
   },
   "source": [
    "Убедимся, что в таблице не осталось пропусков. Для этого ещё раз посчитаем пропущенные значения."
   ]
  },
  {
   "cell_type": "code",
   "execution_count": 10,
   "metadata": {
    "id": "Tq4nYRX4_Zct"
   },
   "outputs": [
    {
     "name": "stdout",
     "output_type": "stream",
     "text": [
      "user_id    0\n",
      "track      0\n",
      "artist     0\n",
      "genre      0\n",
      "city       0\n",
      "time       0\n",
      "day        0\n",
      "dtype: int64\n"
     ]
    }
   ],
   "source": [
    "print(df.isna().sum())"
   ]
  },
  {
   "cell_type": "markdown",
   "metadata": {
    "id": "BWKRtBJ3_Zct"
   },
   "source": [
    "### Дубликаты\n",
    "Посчитаем явные дубликаты в таблице одной командой:"
   ]
  },
  {
   "cell_type": "code",
   "execution_count": 11,
   "metadata": {
    "id": "36eES_S0_Zct"
   },
   "outputs": [
    {
     "name": "stdout",
     "output_type": "stream",
     "text": [
      "3826\n"
     ]
    }
   ],
   "source": [
    "print(df.duplicated().sum())"
   ]
  },
  {
   "cell_type": "markdown",
   "metadata": {
    "id": "Ot25h6XR_Zct"
   },
   "source": [
    "Вызовим специальный метод `pandas`, чтобы удалить явные дубликаты:"
   ]
  },
  {
   "cell_type": "code",
   "execution_count": 12,
   "metadata": {
    "id": "exFHq6tt_Zct"
   },
   "outputs": [],
   "source": [
    "df = df.drop_duplicates().reset_index(drop=True) # удаление явных дубликатов (с удалением старых индексов и формированием новых)"
   ]
  },
  {
   "cell_type": "markdown",
   "metadata": {
    "id": "Im2YwBEG_Zct"
   },
   "source": [
    "Ещё раз посчитаем явные дубликаты в таблице — убедимся, что полностью от них избавились:"
   ]
  },
  {
   "cell_type": "code",
   "execution_count": 13,
   "metadata": {
    "id": "-8PuNWQ0_Zct"
   },
   "outputs": [
    {
     "name": "stdout",
     "output_type": "stream",
     "text": [
      "0\n"
     ]
    }
   ],
   "source": [
    "print(df.duplicated().sum())"
   ]
  },
  {
   "cell_type": "markdown",
   "metadata": {
    "id": "QlFBsxAr_Zct"
   },
   "source": [
    "Теперь избавимся от неявных дубликатов в колонке `genre`. Например, название одного и того же жанра может быть записано немного по-разному. Такие ошибки тоже повлияют на результат исследования."
   ]
  },
  {
   "cell_type": "markdown",
   "metadata": {
    "id": "eSjWwsOh_Zct"
   },
   "source": [
    "Выведим на экран список уникальных названий жанров, отсортированный в алфавитном порядке. Для этого:\n",
    "* извлечем нужный столбец датафрейма, \n",
    "* применим к нему метод сортировки,\n",
    "* для отсортированного столбца вызовем метод, который вернёт уникальные значения из столбца."
   ]
  },
  {
   "cell_type": "code",
   "execution_count": 14,
   "metadata": {
    "id": "JIUcqzZN_Zct"
   },
   "outputs": [
    {
     "data": {
      "text/plain": [
       "array(['acid', 'acoustic', 'action', 'adult', 'africa', 'afrikaans',\n",
       "       'alternative', 'alternativepunk', 'ambient', 'americana',\n",
       "       'animated', 'anime', 'arabesk', 'arabic', 'arena',\n",
       "       'argentinetango', 'art', 'audiobook', 'author', 'avantgarde',\n",
       "       'axé', 'baile', 'balkan', 'beats', 'bigroom', 'black', 'bluegrass',\n",
       "       'blues', 'bollywood', 'bossa', 'brazilian', 'breakbeat', 'breaks',\n",
       "       'broadway', 'cantautori', 'cantopop', 'canzone', 'caribbean',\n",
       "       'caucasian', 'celtic', 'chamber', 'chanson', 'children', 'chill',\n",
       "       'chinese', 'choral', 'christian', 'christmas', 'classical',\n",
       "       'classicmetal', 'club', 'colombian', 'comedy', 'conjazz',\n",
       "       'contemporary', 'country', 'cuban', 'dance', 'dancehall',\n",
       "       'dancepop', 'dark', 'death', 'deep', 'deutschrock', 'deutschspr',\n",
       "       'dirty', 'disco', 'dnb', 'documentary', 'downbeat', 'downtempo',\n",
       "       'drum', 'dub', 'dubstep', 'eastern', 'easy', 'electronic',\n",
       "       'electropop', 'emo', 'entehno', 'epicmetal', 'estrada', 'ethnic',\n",
       "       'eurofolk', 'european', 'experimental', 'extrememetal', 'fado',\n",
       "       'fairytail', 'film', 'fitness', 'flamenco', 'folk', 'folklore',\n",
       "       'folkmetal', 'folkrock', 'folktronica', 'forró', 'frankreich',\n",
       "       'französisch', 'french', 'funk', 'future', 'gangsta', 'garage',\n",
       "       'german', 'ghazal', 'gitarre', 'glitch', 'gospel', 'gothic',\n",
       "       'grime', 'grunge', 'gypsy', 'handsup', \"hard'n'heavy\", 'hardcore',\n",
       "       'hardstyle', 'hardtechno', 'hip', 'hip-hop', 'hiphop',\n",
       "       'historisch', 'holiday', 'hop', 'horror', 'house', 'hymn', 'idm',\n",
       "       'independent', 'indian', 'indie', 'indipop', 'industrial',\n",
       "       'inspirational', 'instrumental', 'international', 'irish', 'jam',\n",
       "       'japanese', 'jazz', 'jewish', 'jpop', 'jungle', 'k-pop',\n",
       "       'karadeniz', 'karaoke', 'kayokyoku', 'korean', 'laiko', 'latin',\n",
       "       'latino', 'leftfield', 'local', 'lounge', 'loungeelectronic',\n",
       "       'lovers', 'malaysian', 'mandopop', 'marschmusik', 'meditative',\n",
       "       'mediterranean', 'melodic', 'metal', 'metalcore', 'mexican',\n",
       "       'middle', 'minimal', 'miscellaneous', 'modern', 'mood', 'mpb',\n",
       "       'muslim', 'native', 'neoklassik', 'neue', 'new', 'newage',\n",
       "       'newwave', 'nu', 'nujazz', 'numetal', 'oceania', 'old', 'opera',\n",
       "       'orchestral', 'other', 'piano', 'podcasts', 'pop', 'popdance',\n",
       "       'popelectronic', 'popeurodance', 'poprussian', 'post',\n",
       "       'posthardcore', 'postrock', 'power', 'progmetal', 'progressive',\n",
       "       'psychedelic', 'punjabi', 'punk', 'quebecois', 'ragga', 'ram',\n",
       "       'rancheras', 'rap', 'rave', 'reggae', 'reggaeton', 'regional',\n",
       "       'relax', 'religious', 'retro', 'rhythm', 'rnb', 'rnr', 'rock',\n",
       "       'rockabilly', 'rockalternative', 'rockindie', 'rockother',\n",
       "       'romance', 'roots', 'ruspop', 'rusrap', 'rusrock', 'russian',\n",
       "       'salsa', 'samba', 'scenic', 'schlager', 'self', 'sertanejo',\n",
       "       'shanson', 'shoegazing', 'showtunes', 'singer', 'ska', 'skarock',\n",
       "       'slow', 'smooth', 'soft', 'soul', 'soulful', 'sound', 'soundtrack',\n",
       "       'southern', 'specialty', 'speech', 'spiritual', 'sport',\n",
       "       'stonerrock', 'surf', 'swing', 'synthpop', 'synthrock',\n",
       "       'sängerportrait', 'tango', 'tanzorchester', 'taraftar', 'tatar',\n",
       "       'tech', 'techno', 'teen', 'thrash', 'top', 'traditional',\n",
       "       'tradjazz', 'trance', 'tribal', 'trip', 'triphop', 'tropical',\n",
       "       'türk', 'türkçe', 'ukrrock', 'unknown', 'urban', 'uzbek',\n",
       "       'variété', 'vi', 'videogame', 'vocal', 'western', 'world',\n",
       "       'worldbeat', 'ïîï', 'электроника'], dtype=object)"
      ]
     },
     "execution_count": 14,
     "metadata": {},
     "output_type": "execute_result"
    }
   ],
   "source": [
    "sorted_unique_genre = df['genre'].sort_values().unique()\n",
    "sorted_unique_genre"
   ]
  },
  {
   "cell_type": "markdown",
   "metadata": {
    "id": "qej-Qmuo_Zct"
   },
   "source": [
    "Видим неявные дубликаты названия `hiphop`. Это могут быть названия с ошибками или альтернативные названия того же жанра.\n",
    "\n",
    "Выявлены следующие неявные дубликаты:\n",
    "* *hip*,\n",
    "* *hop*,\n",
    "* *hip-hop*.\n",
    "\n",
    "Чтобы очистить от них таблицу, напишим функцию `replace_wrong_genres()` с двумя параметрами: \n",
    "* `wrong_genres` — список дубликатов,\n",
    "* `correct_genre` — строка с правильным значением.\n",
    "\n",
    "Функция должна исправить колонку `genre` в таблице `df`: заменить каждое значение из списка `wrong_genres` на значение из `correct_genre`."
   ]
  },
  {
   "cell_type": "code",
   "execution_count": 15,
   "metadata": {
    "id": "ErNDkmns_Zct"
   },
   "outputs": [],
   "source": [
    "def replace_wrong_values(wrong_values, correct_value):\n",
    "    for wrong_value in wrong_values:\n",
    "        df['genre'] = df['genre'].replace(wrong_value, correct_value)"
   ]
  },
  {
   "cell_type": "markdown",
   "metadata": {
    "id": "aDoBJxbA_Zct"
   },
   "source": [
    "Вызовим `replace_wrong_genres()` и передадим ей такие аргументы, чтобы она устранила неявные дубликаты: вместо `hip`, `hop` и `hip-hop` в таблице должно быть значение `hiphop`:"
   ]
  },
  {
   "cell_type": "code",
   "execution_count": 16,
   "metadata": {
    "id": "YN5i2hpmSo09"
   },
   "outputs": [],
   "source": [
    "wrong_genres = ['hip', 'hop', 'hip-hop']\n",
    "correct_genre = 'hiphop'\n",
    "replace_wrong_values(wrong_genres, correct_genre)\n",
    "df['genre'] = df['genre'].replace('электроника','electronic')"
   ]
  },
  {
   "cell_type": "markdown",
   "metadata": {
    "id": "zQKF16_RG15m"
   },
   "source": [
    "Проверим, что заменили неправильные названия:\n",
    "\n",
    "*   hip\n",
    "*   hop\n",
    "*   hip-hop\n",
    "\n",
    "Выведим отсортированный список уникальных значений столбца `genre`:"
   ]
  },
  {
   "cell_type": "code",
   "execution_count": 17,
   "metadata": {
    "id": "wvixALnFG15m"
   },
   "outputs": [
    {
     "data": {
      "text/plain": [
       "array(['acid', 'acoustic', 'action', 'adult', 'africa', 'afrikaans',\n",
       "       'alternative', 'alternativepunk', 'ambient', 'americana',\n",
       "       'animated', 'anime', 'arabesk', 'arabic', 'arena',\n",
       "       'argentinetango', 'art', 'audiobook', 'author', 'avantgarde',\n",
       "       'axé', 'baile', 'balkan', 'beats', 'bigroom', 'black', 'bluegrass',\n",
       "       'blues', 'bollywood', 'bossa', 'brazilian', 'breakbeat', 'breaks',\n",
       "       'broadway', 'cantautori', 'cantopop', 'canzone', 'caribbean',\n",
       "       'caucasian', 'celtic', 'chamber', 'chanson', 'children', 'chill',\n",
       "       'chinese', 'choral', 'christian', 'christmas', 'classical',\n",
       "       'classicmetal', 'club', 'colombian', 'comedy', 'conjazz',\n",
       "       'contemporary', 'country', 'cuban', 'dance', 'dancehall',\n",
       "       'dancepop', 'dark', 'death', 'deep', 'deutschrock', 'deutschspr',\n",
       "       'dirty', 'disco', 'dnb', 'documentary', 'downbeat', 'downtempo',\n",
       "       'drum', 'dub', 'dubstep', 'eastern', 'easy', 'electronic',\n",
       "       'electropop', 'emo', 'entehno', 'epicmetal', 'estrada', 'ethnic',\n",
       "       'eurofolk', 'european', 'experimental', 'extrememetal', 'fado',\n",
       "       'fairytail', 'film', 'fitness', 'flamenco', 'folk', 'folklore',\n",
       "       'folkmetal', 'folkrock', 'folktronica', 'forró', 'frankreich',\n",
       "       'französisch', 'french', 'funk', 'future', 'gangsta', 'garage',\n",
       "       'german', 'ghazal', 'gitarre', 'glitch', 'gospel', 'gothic',\n",
       "       'grime', 'grunge', 'gypsy', 'handsup', \"hard'n'heavy\", 'hardcore',\n",
       "       'hardstyle', 'hardtechno', 'hiphop', 'historisch', 'holiday',\n",
       "       'horror', 'house', 'hymn', 'idm', 'independent', 'indian', 'indie',\n",
       "       'indipop', 'industrial', 'inspirational', 'instrumental',\n",
       "       'international', 'irish', 'jam', 'japanese', 'jazz', 'jewish',\n",
       "       'jpop', 'jungle', 'k-pop', 'karadeniz', 'karaoke', 'kayokyoku',\n",
       "       'korean', 'laiko', 'latin', 'latino', 'leftfield', 'local',\n",
       "       'lounge', 'loungeelectronic', 'lovers', 'malaysian', 'mandopop',\n",
       "       'marschmusik', 'meditative', 'mediterranean', 'melodic', 'metal',\n",
       "       'metalcore', 'mexican', 'middle', 'minimal', 'miscellaneous',\n",
       "       'modern', 'mood', 'mpb', 'muslim', 'native', 'neoklassik', 'neue',\n",
       "       'new', 'newage', 'newwave', 'nu', 'nujazz', 'numetal', 'oceania',\n",
       "       'old', 'opera', 'orchestral', 'other', 'piano', 'podcasts', 'pop',\n",
       "       'popdance', 'popelectronic', 'popeurodance', 'poprussian', 'post',\n",
       "       'posthardcore', 'postrock', 'power', 'progmetal', 'progressive',\n",
       "       'psychedelic', 'punjabi', 'punk', 'quebecois', 'ragga', 'ram',\n",
       "       'rancheras', 'rap', 'rave', 'reggae', 'reggaeton', 'regional',\n",
       "       'relax', 'religious', 'retro', 'rhythm', 'rnb', 'rnr', 'rock',\n",
       "       'rockabilly', 'rockalternative', 'rockindie', 'rockother',\n",
       "       'romance', 'roots', 'ruspop', 'rusrap', 'rusrock', 'russian',\n",
       "       'salsa', 'samba', 'scenic', 'schlager', 'self', 'sertanejo',\n",
       "       'shanson', 'shoegazing', 'showtunes', 'singer', 'ska', 'skarock',\n",
       "       'slow', 'smooth', 'soft', 'soul', 'soulful', 'sound', 'soundtrack',\n",
       "       'southern', 'specialty', 'speech', 'spiritual', 'sport',\n",
       "       'stonerrock', 'surf', 'swing', 'synthpop', 'synthrock',\n",
       "       'sängerportrait', 'tango', 'tanzorchester', 'taraftar', 'tatar',\n",
       "       'tech', 'techno', 'teen', 'thrash', 'top', 'traditional',\n",
       "       'tradjazz', 'trance', 'tribal', 'trip', 'triphop', 'tropical',\n",
       "       'türk', 'türkçe', 'ukrrock', 'unknown', 'urban', 'uzbek',\n",
       "       'variété', 'vi', 'videogame', 'vocal', 'western', 'world',\n",
       "       'worldbeat', 'ïîï'], dtype=object)"
      ]
     },
     "execution_count": 17,
     "metadata": {},
     "output_type": "execute_result"
    }
   ],
   "source": [
    "sorted_unique_genre = df['genre'].sort_values().unique()\n",
    "sorted_unique_genre"
   ]
  },
  {
   "cell_type": "markdown",
   "metadata": {
    "id": "jz6a9-7HQUDd"
   },
   "source": [
    "\n",
    "**Выводы**\n",
    "\n",
    "Предобработка обнаружила три проблемы в данных:\n",
    "\n",
    "- нарушения в стиле заголовков,\n",
    "- пропущенные значения,\n",
    "- дубликаты — явные и неявные.\n",
    "\n",
    "Мы исправили заголовки, чтобы упростить работу с таблицей. Без дубликатов исследование станет более точным.\n",
    "\n",
    "Пропущенные значения мы заменили на `'unknown'`. Ещё предстоит увидеть, не повредят ли исследованию пропуски в колонке `genre`.\n",
    "\n",
    "Переходим к проверке гипотез. "
   ]
  },
  {
   "cell_type": "markdown",
   "metadata": {
    "id": "WttZHXH0SqKk"
   },
   "source": [
    "## Проверка гипотез"
   ]
  },
  {
   "cell_type": "markdown",
   "metadata": {
    "id": "Im936VVi_Zcu"
   },
   "source": [
    "### Сравнение поведения пользователей двух столиц"
   ]
  },
  {
   "cell_type": "markdown",
   "metadata": {
    "id": "nwt_MuaL_Zcu"
   },
   "source": [
    "Первая гипотеза утверждает, что пользователи по-разному слушают музыку в Москве и Санкт-Петербурге. Проверим это предположение по данным о трёх днях недели — понедельнике, среде и пятнице. Для этого:\n",
    "\n",
    "* Разделим пользователей Москвы и Санкт-Петербурга\n",
    "* Сравним, сколько треков послушала каждая группа пользователей в понедельник, среду и пятницу.\n"
   ]
  },
  {
   "cell_type": "markdown",
   "metadata": {
    "id": "8Dw_YMmT_Zcu"
   },
   "source": [
    "Сначала выполним каждый из расчётов по отдельности. \n",
    "\n",
    "Оценим активность пользователей в каждом городе. Сгруппируем данные по городу и посчитаем прослушивания в каждой группе.\n",
    "\n"
   ]
  },
  {
   "cell_type": "code",
   "execution_count": 18,
   "metadata": {
    "id": "0_Qs96oh_Zcu"
   },
   "outputs": [
    {
     "data": {
      "text/plain": [
       "city\n",
       "Moscow              42741\n",
       "Saint-Petersburg    18512\n",
       "Name: city, dtype: int64"
      ]
     },
     "execution_count": 18,
     "metadata": {},
     "output_type": "execute_result"
    }
   ],
   "source": [
    "df.groupby('city')['city'].count() # Подсчёт прослушиваний в каждом городе"
   ]
  },
  {
   "cell_type": "markdown",
   "metadata": {
    "id": "dzli3w8o_Zcu"
   },
   "source": [
    "В Москве прослушиваний больше, чем в Петербурге. Из этого не следует, что московские пользователи чаще слушают музыку. Просто самих пользователей в Москве больше.\n",
    "\n",
    "Теперь сгруппируем данные по дню недели и подсчитаем прослушивания в понедельник, среду и пятницу. Учтем, что в данных есть информация только о прослушиваниях только за эти дни.\n"
   ]
  },
  {
   "cell_type": "code",
   "execution_count": 19,
   "metadata": {
    "id": "uZMKjiJz_Zcu"
   },
   "outputs": [
    {
     "data": {
      "text/plain": [
       "day\n",
       "Friday       21840\n",
       "Monday       21354\n",
       "Wednesday    18059\n",
       "Name: day, dtype: int64"
      ]
     },
     "execution_count": 19,
     "metadata": {},
     "output_type": "execute_result"
    }
   ],
   "source": [
    "df.groupby('day')['day'].count()# Подсчёт прослушиваний в каждый из трёх дней"
   ]
  },
  {
   "cell_type": "markdown",
   "metadata": {
    "id": "cC2tNrlL_Zcu"
   },
   "source": [
    "В среднем пользователи из двух городов менее активны по средам. Но картина может измениться, если рассмотреть каждый город в отдельности."
   ]
  },
  {
   "cell_type": "markdown",
   "metadata": {
    "id": "POzs8bGa_Zcu"
   },
   "source": [
    "Теперь напишем функцию, которая объединит два эти расчёта.\n",
    "\n",
    "Создадим функцию `number_tracks()`, которая посчитает прослушивания для заданного дня и города. Ей понадобятся два параметра:\n",
    "* день недели,\n",
    "* название города.\n",
    "\n",
    "В функции сохраним в переменную строки исходной таблицы, у которых значение:\n",
    "  * в колонке `day` равно параметру `day`,\n",
    "  * в колонке `city` равно параметру `city`.\n",
    "\n",
    "Для этого применим последовательную фильтрацию с логической индексацией.\n",
    "\n",
    "Затем посчитаем значения в столбце `user_id` получившейся таблицы. Результат сохраним в новую переменную. Вернем эту переменную из функции."
   ]
  },
  {
   "cell_type": "code",
   "execution_count": 20,
   "metadata": {
    "id": "Nz3GdQB1_Zcu"
   },
   "outputs": [],
   "source": [
    "def number_tracks(day,city):\n",
    "    track_list = df[df['city'] == city]\n",
    "    track_list = track_list[track_list['day'] == day]\n",
    "    track_list_count = track_list['user_id'].count()\n",
    "    return track_list_count\n",
    "\n",
    "# <создание функции number_tracks()>\n",
    "# Объявляется функция с двумя параметрами: day, city.\n",
    "# В переменной track_list сохраняются те строки таблицы df, для которых \n",
    "# значение в столбце 'day' равно параметру day и одновременно значение\n",
    "# в столбце 'city' равно параметру city (используем последовательную фильтрацию\n",
    "# с помощью логической индексации).\n",
    "# В переменной track_list_count сохраняется число значений столбца 'user_id',\n",
    "# рассчитанное методом count() для таблицы track_list.\n",
    "# Функция возвращает число - значение track_list_count.\n",
    "\n",
    "# Функция для подсчёта прослушиваний для конкретного города и дня.\n",
    "# С помощью последовательной фильтрации с логической индексацией она \n",
    "# сначала получит из исходной таблицы строки с нужным днём,\n",
    "# затем из результата отфильтрует строки с нужным городом,\n",
    "# методом count() посчитает количество значений в колонке user_id. \n",
    "# Это количество функция вернёт в качестве результата number_tracks('Monday', 'Moscow') "
   ]
  },
  {
   "cell_type": "markdown",
   "metadata": {
    "id": "ytf7xFrFJQ2r"
   },
   "source": [
    "Вызовим `number_tracks()` шесть раз, меняя значение параметров — так, чтобы получить данные для каждого города в каждый из трёх дней."
   ]
  },
  {
   "cell_type": "code",
   "execution_count": 21,
   "metadata": {
    "id": "rJcRATNQ_Zcu"
   },
   "outputs": [
    {
     "data": {
      "text/plain": [
       "15740"
      ]
     },
     "execution_count": 21,
     "metadata": {},
     "output_type": "execute_result"
    }
   ],
   "source": [
    "number_tracks('Monday', 'Moscow') # количество прослушиваний в Москве по понедельникам"
   ]
  },
  {
   "cell_type": "code",
   "execution_count": 22,
   "metadata": {
    "id": "hq_ncZ5T_Zcu"
   },
   "outputs": [
    {
     "data": {
      "text/plain": [
       "5614"
      ]
     },
     "execution_count": 22,
     "metadata": {},
     "output_type": "execute_result"
    }
   ],
   "source": [
    "number_tracks('Monday', 'Saint-Petersburg')# количество прослушиваний в Санкт-Петербурге по понедельникам"
   ]
  },
  {
   "cell_type": "code",
   "execution_count": 23,
   "metadata": {
    "id": "_NTy2VPU_Zcu"
   },
   "outputs": [
    {
     "data": {
      "text/plain": [
       "11056"
      ]
     },
     "execution_count": 23,
     "metadata": {},
     "output_type": "execute_result"
    }
   ],
   "source": [
    "number_tracks('Wednesday', 'Moscow')  # количество прослушиваний в Москве по средам"
   ]
  },
  {
   "cell_type": "code",
   "execution_count": 24,
   "metadata": {
    "id": "j2y3TAwo_Zcu"
   },
   "outputs": [
    {
     "data": {
      "text/plain": [
       "7003"
      ]
     },
     "execution_count": 24,
     "metadata": {},
     "output_type": "execute_result"
    }
   ],
   "source": [
    "number_tracks('Wednesday', 'Saint-Petersburg')# количество прослушиваний в Санкт-Петербурге по средам"
   ]
  },
  {
   "cell_type": "code",
   "execution_count": 25,
   "metadata": {
    "id": "vYDw5u_K_Zcu"
   },
   "outputs": [
    {
     "data": {
      "text/plain": [
       "15945"
      ]
     },
     "execution_count": 25,
     "metadata": {},
     "output_type": "execute_result"
    }
   ],
   "source": [
    "number_tracks('Friday', 'Moscow') #количество прослушиваний в Москве по пятницам"
   ]
  },
  {
   "cell_type": "code",
   "execution_count": 26,
   "metadata": {
    "id": "8_yzFtW3_Zcu"
   },
   "outputs": [
    {
     "data": {
      "text/plain": [
       "5895"
      ]
     },
     "execution_count": 26,
     "metadata": {},
     "output_type": "execute_result"
    }
   ],
   "source": [
    "number_tracks('Friday', 'Saint-Petersburg')# количество прослушиваний в Санкт-Петербурге по пятницам"
   ]
  },
  {
   "cell_type": "markdown",
   "metadata": {
    "id": "7QXffbO-_Zcu"
   },
   "source": [
    "Создадим c помощью конструктора `pd.DataFrame` таблицу, где\n",
    "* названия колонок — `['city', 'monday', 'wednesday', 'friday']`;\n",
    "* данные — результаты, которые мы получили с помощью `number_tracks`."
   ]
  },
  {
   "cell_type": "code",
   "execution_count": 27,
   "metadata": {
    "id": "APAcLpOr_Zcu"
   },
   "outputs": [
    {
     "data": {
      "text/html": [
       "<div>\n",
       "<style scoped>\n",
       "    .dataframe tbody tr th:only-of-type {\n",
       "        vertical-align: middle;\n",
       "    }\n",
       "\n",
       "    .dataframe tbody tr th {\n",
       "        vertical-align: top;\n",
       "    }\n",
       "\n",
       "    .dataframe thead th {\n",
       "        text-align: right;\n",
       "    }\n",
       "</style>\n",
       "<table border=\"1\" class=\"dataframe\">\n",
       "  <thead>\n",
       "    <tr style=\"text-align: right;\">\n",
       "      <th></th>\n",
       "      <th>city</th>\n",
       "      <th>monday</th>\n",
       "      <th>wednesday</th>\n",
       "      <th>friday</th>\n",
       "    </tr>\n",
       "  </thead>\n",
       "  <tbody>\n",
       "    <tr>\n",
       "      <th>0</th>\n",
       "      <td>Moscow</td>\n",
       "      <td>15740</td>\n",
       "      <td>11056</td>\n",
       "      <td>15945</td>\n",
       "    </tr>\n",
       "    <tr>\n",
       "      <th>1</th>\n",
       "      <td>Saint-Petersburg</td>\n",
       "      <td>5614</td>\n",
       "      <td>7003</td>\n",
       "      <td>5895</td>\n",
       "    </tr>\n",
       "  </tbody>\n",
       "</table>\n",
       "</div>"
      ],
      "text/plain": [
       "               city  monday  wednesday  friday\n",
       "0            Moscow   15740      11056   15945\n",
       "1  Saint-Petersburg    5614       7003    5895"
      ]
     },
     "metadata": {},
     "output_type": "display_data"
    }
   ],
   "source": [
    "columns = ['city', 'monday','wednesday', 'friday']\n",
    "data = [['Moscow', 15740, 11056, 15945], ['Saint-Petersburg', 5614, 7003, 5895]]\n",
    "table = pd.DataFrame(data=data, columns=columns)\n",
    "display(table)\n",
    "\n",
    "# Таблица с результатами"
   ]
  },
  {
   "cell_type": "markdown",
   "metadata": {
    "id": "-EgPIHYu_Zcu"
   },
   "source": [
    "**Выводы**\n",
    "\n",
    "Данные показывают разницу поведения пользователей:\n",
    "\n",
    "- В Москве пик прослушиваний приходится на понедельник и пятницу, а в среду заметен спад.\n",
    "- В Петербурге, наоборот, больше слушают музыку по средам. Активность в понедельник и пятницу здесь почти в равной мере уступает среде.\n",
    "\n",
    "Значит, данные говорят в пользу первой гипотезы."
   ]
  },
  {
   "cell_type": "markdown",
   "metadata": {
    "id": "atZAxtq4_Zcu"
   },
   "source": [
    "### Музыка в начале и в конце недели"
   ]
  },
  {
   "cell_type": "markdown",
   "metadata": {
    "id": "eXrQqXFH_Zcu"
   },
   "source": [
    "Согласно второй гипотезе, утром в понедельник в Москве преобладают одни жанры, а в Петербурге — другие. Так же и вечером пятницы преобладают разные жанры — в зависимости от города."
   ]
  },
  {
   "cell_type": "markdown",
   "metadata": {
    "id": "S8UcW6Hw_Zcu"
   },
   "source": [
    "Сохраним таблицы с данными в две переменные:\n",
    "* по Москве — в `moscow_general`;\n",
    "* по Санкт-Петербургу — в `spb_general`."
   ]
  },
  {
   "cell_type": "code",
   "execution_count": 28,
   "metadata": {
    "id": "qeaFfM_P_Zcu"
   },
   "outputs": [],
   "source": [
    "moscow_general = df[df['city'] == 'Moscow'] \n",
    "# получение таблицы moscow_general из тех строк таблицы df, \n",
    "# для которых значение в столбце 'city' равно 'Moscow'\n"
   ]
  },
  {
   "cell_type": "code",
   "execution_count": 29,
   "metadata": {
    "id": "ORaVRKto_Zcu"
   },
   "outputs": [],
   "source": [
    "spb_general = df[df['city'] == 'Saint-Petersburg'] \n",
    "# получение таблицы spb_general из тех строк таблицы df,\n",
    "# для которых значение в столбце 'city' равно 'Saint-Petersburg'\n"
   ]
  },
  {
   "cell_type": "markdown",
   "metadata": {
    "id": "MEJV-CX2_Zcu"
   },
   "source": [
    "Создадим функцию `genre_weekday()` с четырьмя параметрами:\n",
    "* таблица (датафрейм) с данными,\n",
    "* день недели,\n",
    "* начальная временная метка в формате 'hh:mm', \n",
    "* последняя временная метка в формате 'hh:mm'.\n",
    "\n",
    "Функция должна вернуть информацию о топ-10 жанров тех треков, которые прослушивали в указанный день, в промежутке между двумя отметками времени."
   ]
  },
  {
   "cell_type": "code",
   "execution_count": 30,
   "metadata": {
    "id": "laJT9BYl_Zcu"
   },
   "outputs": [],
   "source": [
    "def genre_weekday(table, day, time1, time2):\n",
    "    genre_df = table[table['day'] == day]\n",
    "    genre_df = genre_df[genre_df['time'] > time1]\n",
    "    genre_df = genre_df[genre_df['time'] < time2]\n",
    "    genre_df_count = genre_df.groupby('genre')['genre'].count()\n",
    "    genre_df_sorted = genre_df_count.sort_values(ascending=False)\n",
    "    return genre_df_sorted.head(10)\n",
    "\n",
    "\n",
    "# Объявление функции genre_weekday() с параметрами table, day, time1, time2,\n",
    "# которая возвращает информацию о самых популярных жанрах в указанный день в\n",
    "# заданное время:\n",
    "# 1) в переменную genre_df сохраняются те строки переданного датафрейма table, для\n",
    "#    которых одновременно:\n",
    "#    - значение в столбце day равно значению аргумента day\n",
    "#    - значение в столбце time больше значения аргумента time1\n",
    "#    - значение в столбце time меньше значения аргумента time2\n",
    "#    Используйте последовательную фильтрацию с помощью логической индексации.\n",
    "# 2) сгруппировать датафрейм genre_df по столбцу genre, взять один из его\n",
    "#    столбцов и посчитать методом count() количество записей для каждого из\n",
    "#    присутствующих жанров, получившийся Series записать в переменную\n",
    "#    genre_df_count\n",
    "# 3) отсортировать genre_df_count по убыванию встречаемости и сохранить\n",
    "#    в переменную genre_df_sorted\n",
    "# 4) вернуть Series из 10 первых значений genre_df_sorted, это будут топ-10\n",
    "#    популярных жанров (в указанный день, в заданное время)"
   ]
  },
  {
   "cell_type": "markdown",
   "metadata": {
    "id": "la2s2_PF_Zcu"
   },
   "source": [
    "Cравним результаты функции `genre_weekday()` для Москвы и Санкт-Петербурга в понедельник утром (с 7:00 до 11:00) и в пятницу вечером (с 17:00 до 23:00):"
   ]
  },
  {
   "cell_type": "code",
   "execution_count": 31,
   "metadata": {
    "id": "yz7itPUQ_Zcu"
   },
   "outputs": [
    {
     "data": {
      "text/plain": [
       "genre\n",
       "pop            781\n",
       "dance          549\n",
       "electronic     480\n",
       "rock           474\n",
       "hiphop         286\n",
       "ruspop         186\n",
       "world          181\n",
       "rusrap         175\n",
       "alternative    164\n",
       "unknown        161\n",
       "Name: genre, dtype: int64"
      ]
     },
     "execution_count": 31,
     "metadata": {},
     "output_type": "execute_result"
    }
   ],
   "source": [
    "genre_weekday(moscow_general, 'Monday', '07:00', '11:00')\n",
    "\n",
    "# вызов функции для утра понедельника в Москве (вместо df — таблица moscow_general)\n",
    "# объекты, хранящие время, являются строками и сравниваются как строки\n",
    "# пример вызова: genre_weekday(moscow_general, 'Monday', '07:00', '11:00')"
   ]
  },
  {
   "cell_type": "code",
   "execution_count": 32,
   "metadata": {
    "id": "kwUcHPdy_Zcu"
   },
   "outputs": [
    {
     "data": {
      "text/plain": [
       "genre\n",
       "pop            218\n",
       "dance          182\n",
       "rock           162\n",
       "electronic     147\n",
       "hiphop          80\n",
       "ruspop          64\n",
       "alternative     58\n",
       "rusrap          55\n",
       "jazz            44\n",
       "classical       40\n",
       "Name: genre, dtype: int64"
      ]
     },
     "execution_count": 32,
     "metadata": {},
     "output_type": "execute_result"
    }
   ],
   "source": [
    "genre_weekday(spb_general, 'Monday', '07:00', '11:00')\n",
    "# вызов функции для утра понедельника в Петербурге (вместо df — таблица spb_general)"
   ]
  },
  {
   "cell_type": "code",
   "execution_count": 33,
   "metadata": {
    "id": "EzXVRE1o_Zcu"
   },
   "outputs": [
    {
     "data": {
      "text/plain": [
       "genre\n",
       "pop            713\n",
       "rock           517\n",
       "dance          495\n",
       "electronic     482\n",
       "hiphop         273\n",
       "world          208\n",
       "ruspop         170\n",
       "alternative    163\n",
       "classical      163\n",
       "rusrap         142\n",
       "Name: genre, dtype: int64"
      ]
     },
     "execution_count": 33,
     "metadata": {},
     "output_type": "execute_result"
    }
   ],
   "source": [
    "genre_weekday(moscow_general, 'Friday', '17:00', '23:00')\n",
    "# вызов функции для вечера пятницы в Москве"
   ]
  },
  {
   "cell_type": "code",
   "execution_count": 34,
   "metadata": {
    "id": "JZaEKu5v_Zcu"
   },
   "outputs": [
    {
     "data": {
      "text/plain": [
       "genre\n",
       "pop            256\n",
       "electronic     216\n",
       "rock           216\n",
       "dance          210\n",
       "hiphop          97\n",
       "alternative     63\n",
       "jazz            61\n",
       "classical       60\n",
       "rusrap          59\n",
       "world           54\n",
       "Name: genre, dtype: int64"
      ]
     },
     "execution_count": 34,
     "metadata": {},
     "output_type": "execute_result"
    }
   ],
   "source": [
    "genre_weekday(spb_general, 'Friday', '17:00', '23:00')\n",
    "# вызов функции для вечера пятницы в Петербурге"
   ]
  },
  {
   "cell_type": "markdown",
   "metadata": {
    "id": "wrCe4MNX_Zcu"
   },
   "source": [
    "**Выводы**\n",
    "\n",
    "Если сравнить топ-10 жанров в понедельник утром, можно сделать такие выводы:\n",
    "\n",
    "1. В Москве и Петербурге слушают похожую музыку. Единственное отличие — в московский рейтинг вошёл жанр “world”, а в петербургский — джаз и классика.\n",
    "\n",
    "2. В Москве пропущенных значений оказалось так много, что значение `'unknown'` заняло десятое место среди самых популярных жанров. Значит, пропущенные значения занимают существенную долю в данных и угрожают достоверности исследования.\n",
    "\n",
    "Вечер пятницы не меняет эту картину. Некоторые жанры поднимаются немного выше, другие спускаются, но в целом топ-10 остаётся тем же самым.\n",
    "\n",
    "Таким образом, вторая гипотеза подтвердилась лишь частично:\n",
    "* Пользователи слушают похожую музыку в начале недели и в конце.\n",
    "* Разница между Москвой и Петербургом не слишком выражена. В Москве чаще слушают русскую популярную музыку, в Петербурге — джаз.\n",
    "\n",
    "Однако пропуски в данных ставят под сомнение этот результат. В Москве их так много, что рейтинг топ-10 мог бы выглядеть иначе, если бы не утерянные  данные о жанрах."
   ]
  },
  {
   "cell_type": "markdown",
   "metadata": {
    "id": "JolODAqr_Zcu"
   },
   "source": [
    "### Жанровые предпочтения в Москве и Петербурге\n",
    "\n",
    "Гипотеза: Петербург — столица рэпа, музыку этого жанра там слушают чаще, чем в Москве.  А Москва — город контрастов, в котором, тем не менее, преобладает поп-музыка."
   ]
  },
  {
   "cell_type": "markdown",
   "metadata": {
    "id": "DlegSvaT_Zcu"
   },
   "source": [
    "Сгруппируем таблицу `moscow_general` по жанру и посчитаем прослушивания треков каждого жанра методом `count()`. Затем отсортируем результат в порядке убывания и сохраните его в таблице `moscow_genres`."
   ]
  },
  {
   "cell_type": "code",
   "execution_count": 35,
   "metadata": {
    "id": "r19lIPke_Zcu"
   },
   "outputs": [],
   "source": [
    "moscow_genres = moscow_general.groupby('genre')['genre'].count()\n",
    "moscow_genres = moscow_genres.sort_values(ascending=False)\n",
    "# одной строкой: группировка таблицы moscow_general по столбцу 'genre', \n",
    "# подсчёт числа значений 'genre' в этой группировке методом count(), \n",
    "# сортировка получившегося Series в порядке убывания и сохранение в moscow_genres"
   ]
  },
  {
   "cell_type": "markdown",
   "metadata": {
    "id": "6kMuomxTiIr8"
   },
   "source": [
    "Выведим на экран первые десять строк `moscow_genres`:"
   ]
  },
  {
   "cell_type": "code",
   "execution_count": 36,
   "metadata": {
    "id": "WhCSooF8_Zcv"
   },
   "outputs": [
    {
     "data": {
      "text/plain": [
       "genre\n",
       "pop            5892\n",
       "dance          4435\n",
       "rock           3965\n",
       "electronic     3786\n",
       "hiphop         2096\n",
       "classical      1616\n",
       "world          1432\n",
       "alternative    1379\n",
       "ruspop         1372\n",
       "rusrap         1161\n",
       "Name: genre, dtype: int64"
      ]
     },
     "execution_count": 36,
     "metadata": {},
     "output_type": "execute_result"
    }
   ],
   "source": [
    "moscow_genres.head(10)\n",
    "# просмотр первых 10 строк moscow_genres"
   ]
  },
  {
   "cell_type": "markdown",
   "metadata": {
    "id": "cnPG2vnN_Zcv"
   },
   "source": [
    "Теперь повторим то же и для Петербурга.\n",
    "\n",
    "Сгруппируем таблицу `spb_general` по жанру. Посчитаем прослушивания треков каждого жанра. Результат отсортируем в порядке убывания и сохраним в таблице `spb_genres`:\n"
   ]
  },
  {
   "cell_type": "code",
   "execution_count": 37,
   "metadata": {
    "id": "gluLIpE7_Zcv"
   },
   "outputs": [],
   "source": [
    "spb_genres = spb_general.groupby('genre')['genre'].count()\n",
    "spb_genres = spb_genres.sort_values(ascending=False)\n",
    "# одной строкой: группировка таблицы spb_general по столбцу 'genre', \n",
    "# подсчёт числа значений 'genre' в этой группировке методом count(), \n",
    "# сортировка получившегося Series в порядке убывания и сохранение в spb_genres"
   ]
  },
  {
   "cell_type": "markdown",
   "metadata": {
    "id": "5Doha_ODgyQ8"
   },
   "source": [
    "Выведим на экран первые десять строк `spb_genres`:"
   ]
  },
  {
   "cell_type": "code",
   "execution_count": 38,
   "metadata": {
    "id": "uaGJHjVU_Zcv"
   },
   "outputs": [
    {
     "data": {
      "text/plain": [
       "genre\n",
       "pop            2431\n",
       "dance          1932\n",
       "rock           1879\n",
       "electronic     1737\n",
       "hiphop          960\n",
       "alternative     649\n",
       "classical       646\n",
       "rusrap          564\n",
       "ruspop          538\n",
       "world           515\n",
       "Name: genre, dtype: int64"
      ]
     },
     "execution_count": 38,
     "metadata": {},
     "output_type": "execute_result"
    }
   ],
   "source": [
    "spb_genres.head(10)\n",
    "# просмотр первых 10 строк spb_genres"
   ]
  },
  {
   "cell_type": "markdown",
   "metadata": {
    "id": "RY51YJYu_Zcv"
   },
   "source": [
    "**Выводы**"
   ]
  },
  {
   "cell_type": "markdown",
   "metadata": {
    "id": "nVhnJEm__Zcv"
   },
   "source": [
    "Гипотеза частично подтвердилась:\n",
    "* Поп-музыка — самый популярный жанр в Москве, как и предполагала гипотеза. Более того, в топ-10 жанров встречается близкий жанр — русская популярная музыка.\n",
    "* Вопреки ожиданиям, рэп одинаково популярен в Москве и Петербурге. \n"
   ]
  },
  {
   "cell_type": "markdown",
   "metadata": {
    "id": "ykKQ0N65_Zcv"
   },
   "source": [
    "## Итоги исследования"
   ]
  },
  {
   "cell_type": "markdown",
   "metadata": {
    "id": "tjUwbHb3_Zcv"
   },
   "source": [
    "Мы проверили три гипотезы и установили:\n",
    "\n",
    "1. День недели по-разному влияет на активность пользователей в Москве и Петербурге. \n",
    "\n",
    "Первая гипотеза полностью подтвердилась.\n",
    "\n",
    "2. Музыкальные предпочтения не сильно меняются в течение недели — будь то Москва или Петербург. Небольшие различия заметны в начале недели, по понедельникам:\n",
    "* в Москве слушают музыку жанра “world”,\n",
    "* в Петербурге — джаз и классику.\n",
    "\n",
    "Таким образом, вторая гипотеза подтвердилась лишь отчасти. Этот результат мог оказаться иным, если бы не пропуски в данных.\n",
    "\n",
    "3. Во вкусах пользователей Москвы и Петербурга больше общего чем различий. Вопреки ожиданиям, предпочтения жанров в Петербурге напоминают московские.\n",
    "\n",
    "Третья гипотеза не подтвердилась. Если различия в предпочтениях и существуют, на основной массе пользователей они незаметны.\n",
    "\n",
    "**На практике исследования содержат проверки статистических гипотез.**\n",
    "Из данных одного сервиса не всегда можно сделать вывод о всех жителях города.\n",
    "Проверки статистических гипотез покажут, насколько они достоверны, исходя из имеющихся данных. \n",
    "С методами проверок гипотез я познакомился в следующих темах."
   ]
  },
  {
   "cell_type": "code",
   "execution_count": null,
   "metadata": {},
   "outputs": [],
   "source": []
  }
 ],
 "metadata": {
  "ExecuteTimeLog": [
   {
    "duration": 255,
    "start_time": "2022-03-13T15:19:20.765Z"
   },
   {
    "duration": 336,
    "start_time": "2022-03-13T15:20:31.433Z"
   },
   {
    "duration": 268,
    "start_time": "2022-03-13T15:20:52.500Z"
   },
   {
    "duration": 630,
    "start_time": "2022-03-13T15:20:58.715Z"
   },
   {
    "duration": 1812,
    "start_time": "2022-03-13T15:21:03.917Z"
   },
   {
    "duration": 152,
    "start_time": "2022-03-13T15:21:38.839Z"
   },
   {
    "duration": 159,
    "start_time": "2022-03-13T15:21:43.842Z"
   },
   {
    "duration": 153,
    "start_time": "2022-03-13T15:21:49.042Z"
   },
   {
    "duration": 20,
    "start_time": "2022-03-13T15:22:28.700Z"
   },
   {
    "duration": 26,
    "start_time": "2022-03-13T15:25:52.756Z"
   },
   {
    "duration": 4,
    "start_time": "2022-03-13T15:32:50.513Z"
   },
   {
    "duration": 4,
    "start_time": "2022-03-13T15:33:04.869Z"
   },
   {
    "duration": 4,
    "start_time": "2022-03-13T15:33:21.748Z"
   },
   {
    "duration": 98,
    "start_time": "2022-03-13T15:37:39.518Z"
   },
   {
    "duration": 22,
    "start_time": "2022-03-13T15:37:55.945Z"
   },
   {
    "duration": 5,
    "start_time": "2022-03-13T15:38:47.235Z"
   },
   {
    "duration": 5,
    "start_time": "2022-03-13T15:39:09.153Z"
   },
   {
    "duration": 17,
    "start_time": "2022-03-13T15:39:24.442Z"
   },
   {
    "duration": 18,
    "start_time": "2022-03-13T15:39:27.519Z"
   },
   {
    "duration": 5,
    "start_time": "2022-03-13T15:39:31.485Z"
   },
   {
    "duration": 5,
    "start_time": "2022-03-13T15:39:47.529Z"
   },
   {
    "duration": 4,
    "start_time": "2022-03-13T15:40:08.034Z"
   },
   {
    "duration": 5,
    "start_time": "2022-03-13T15:41:04.139Z"
   },
   {
    "duration": 5,
    "start_time": "2022-03-13T15:41:43.535Z"
   },
   {
    "duration": 5,
    "start_time": "2022-03-13T15:42:05.610Z"
   },
   {
    "duration": 16,
    "start_time": "2022-03-13T15:42:52.975Z"
   },
   {
    "duration": 4,
    "start_time": "2022-03-13T15:42:58.617Z"
   },
   {
    "duration": 5,
    "start_time": "2022-03-13T15:43:23.383Z"
   },
   {
    "duration": 251,
    "start_time": "2022-03-13T15:55:25.595Z"
   },
   {
    "duration": 25,
    "start_time": "2022-03-13T16:08:50.141Z"
   },
   {
    "duration": 26,
    "start_time": "2022-03-13T16:09:06.369Z"
   },
   {
    "duration": 27,
    "start_time": "2022-03-13T16:25:52.434Z"
   },
   {
    "duration": 31,
    "start_time": "2022-03-13T16:37:48.885Z"
   },
   {
    "duration": 27,
    "start_time": "2022-03-13T17:30:18.330Z"
   },
   {
    "duration": 19,
    "start_time": "2022-03-13T17:34:16.877Z"
   },
   {
    "duration": 19,
    "start_time": "2022-03-13T17:34:21.059Z"
   },
   {
    "duration": 25,
    "start_time": "2022-03-13T17:34:44.674Z"
   },
   {
    "duration": 493,
    "start_time": "2022-03-13T17:35:56.902Z"
   },
   {
    "duration": 227,
    "start_time": "2022-03-13T17:35:59.936Z"
   },
   {
    "duration": 229,
    "start_time": "2022-03-13T17:36:38.265Z"
   },
   {
    "duration": 72,
    "start_time": "2022-03-13T17:36:45.481Z"
   },
   {
    "duration": 59,
    "start_time": "2022-03-13T17:36:55.512Z"
   },
   {
    "duration": 63,
    "start_time": "2022-03-13T17:37:13.490Z"
   },
   {
    "duration": 57,
    "start_time": "2022-03-13T17:38:34.903Z"
   },
   {
    "duration": 56,
    "start_time": "2022-03-13T17:38:48.141Z"
   },
   {
    "duration": 231,
    "start_time": "2022-03-13T17:38:57.508Z"
   },
   {
    "duration": 235,
    "start_time": "2022-03-13T17:39:35.392Z"
   },
   {
    "duration": 65,
    "start_time": "2022-03-13T17:39:50.099Z"
   },
   {
    "duration": 57,
    "start_time": "2022-03-13T17:39:53.865Z"
   },
   {
    "duration": 55,
    "start_time": "2022-03-13T17:40:05.443Z"
   },
   {
    "duration": 53,
    "start_time": "2022-03-13T17:40:18.271Z"
   },
   {
    "duration": 56,
    "start_time": "2022-03-13T17:40:33.480Z"
   },
   {
    "duration": 54,
    "start_time": "2022-03-13T17:40:34.792Z"
   },
   {
    "duration": 54,
    "start_time": "2022-03-13T17:40:39.584Z"
   },
   {
    "duration": 55,
    "start_time": "2022-03-13T17:40:42.278Z"
   },
   {
    "duration": 54,
    "start_time": "2022-03-13T17:40:45.909Z"
   },
   {
    "duration": 53,
    "start_time": "2022-03-13T17:40:54.066Z"
   },
   {
    "duration": 65,
    "start_time": "2022-03-13T17:40:59.922Z"
   },
   {
    "duration": 58,
    "start_time": "2022-03-13T17:41:02.771Z"
   },
   {
    "duration": 74,
    "start_time": "2022-03-13T17:50:33.922Z"
   },
   {
    "duration": 254,
    "start_time": "2022-03-13T17:50:42.701Z"
   },
   {
    "duration": 244,
    "start_time": "2022-03-13T17:50:51.201Z"
   },
   {
    "duration": 225,
    "start_time": "2022-03-13T17:52:45.292Z"
   },
   {
    "duration": 227,
    "start_time": "2022-03-13T17:53:03.780Z"
   },
   {
    "duration": 222,
    "start_time": "2022-03-13T17:53:48.922Z"
   },
   {
    "duration": 218,
    "start_time": "2022-03-13T17:54:25.235Z"
   },
   {
    "duration": 275,
    "start_time": "2022-03-13T17:55:33.473Z"
   },
   {
    "duration": 216,
    "start_time": "2022-03-13T17:58:55.477Z"
   },
   {
    "duration": 11,
    "start_time": "2022-03-13T17:59:47.046Z"
   },
   {
    "duration": 947,
    "start_time": "2022-03-13T17:59:50.347Z"
   },
   {
    "duration": 4233,
    "start_time": "2022-03-13T17:59:54.847Z"
   },
   {
    "duration": 2794,
    "start_time": "2022-03-13T18:00:02.718Z"
   },
   {
    "duration": 14,
    "start_time": "2022-03-13T18:00:22.841Z"
   },
   {
    "duration": 222,
    "start_time": "2022-03-13T18:00:34.392Z"
   },
   {
    "duration": 43,
    "start_time": "2022-03-13T18:03:04.630Z"
   },
   {
    "duration": 44,
    "start_time": "2022-03-13T18:05:44.898Z"
   },
   {
    "duration": 44,
    "start_time": "2022-03-13T18:06:34.617Z"
   },
   {
    "duration": 2616,
    "start_time": "2022-03-13T18:06:38.621Z"
   },
   {
    "duration": 3131,
    "start_time": "2022-03-13T18:07:21.195Z"
   },
   {
    "duration": 55,
    "start_time": "2022-03-13T18:07:28.574Z"
   },
   {
    "duration": 41,
    "start_time": "2022-03-13T18:08:05.354Z"
   },
   {
    "duration": 43,
    "start_time": "2022-03-13T18:08:17.105Z"
   },
   {
    "duration": 45,
    "start_time": "2022-03-13T18:08:34.513Z"
   },
   {
    "duration": 590,
    "start_time": "2022-03-13T18:08:38.275Z"
   },
   {
    "duration": 43,
    "start_time": "2022-03-13T18:08:53.841Z"
   },
   {
    "duration": 1717,
    "start_time": "2022-03-13T18:08:58.841Z"
   },
   {
    "duration": 2929,
    "start_time": "2022-03-13T18:09:46.460Z"
   },
   {
    "duration": 46,
    "start_time": "2022-03-13T18:09:56.132Z"
   },
   {
    "duration": 47,
    "start_time": "2022-03-13T18:10:03.200Z"
   },
   {
    "duration": 45,
    "start_time": "2022-03-13T18:10:22.261Z"
   },
   {
    "duration": 44,
    "start_time": "2022-03-13T18:10:37.106Z"
   },
   {
    "duration": 45,
    "start_time": "2022-03-13T18:10:54.574Z"
   },
   {
    "duration": 5,
    "start_time": "2022-03-13T18:22:32.226Z"
   },
   {
    "duration": 3,
    "start_time": "2022-03-13T18:22:41.092Z"
   },
   {
    "duration": 3237,
    "start_time": "2022-03-13T18:22:44.098Z"
   },
   {
    "duration": 229,
    "start_time": "2022-03-13T18:22:52.746Z"
   },
   {
    "duration": 15,
    "start_time": "2022-03-13T18:24:19.938Z"
   },
   {
    "duration": 1812,
    "start_time": "2022-03-13T18:24:24.042Z"
   },
   {
    "duration": 14,
    "start_time": "2022-03-13T18:24:55.569Z"
   },
   {
    "duration": 4,
    "start_time": "2022-03-13T18:24:59.665Z"
   },
   {
    "duration": 43,
    "start_time": "2022-03-13T18:25:43.387Z"
   },
   {
    "duration": 49,
    "start_time": "2022-03-13T18:27:31.776Z"
   },
   {
    "duration": 5,
    "start_time": "2022-03-13T18:27:46.154Z"
   },
   {
    "duration": 5,
    "start_time": "2022-03-13T18:27:57.485Z"
   },
   {
    "duration": 16,
    "start_time": "2022-03-13T18:28:01.279Z"
   },
   {
    "duration": 5,
    "start_time": "2022-03-13T18:28:04.867Z"
   },
   {
    "duration": 5,
    "start_time": "2022-03-13T18:28:32.295Z"
   },
   {
    "duration": 15,
    "start_time": "2022-03-13T18:28:53.621Z"
   },
   {
    "duration": 6,
    "start_time": "2022-03-13T18:28:57.464Z"
   },
   {
    "duration": 15,
    "start_time": "2022-03-13T18:38:47.894Z"
   },
   {
    "duration": 5,
    "start_time": "2022-03-13T18:38:59.179Z"
   },
   {
    "duration": 1367,
    "start_time": "2022-03-13T18:39:08.995Z"
   },
   {
    "duration": 44,
    "start_time": "2022-03-13T18:39:31.225Z"
   },
   {
    "duration": 46,
    "start_time": "2022-03-13T18:39:34.181Z"
   },
   {
    "duration": 43,
    "start_time": "2022-03-13T18:39:37.719Z"
   },
   {
    "duration": 41,
    "start_time": "2022-03-13T18:39:46.617Z"
   },
   {
    "duration": 50,
    "start_time": "2022-03-13T18:39:51.412Z"
   },
   {
    "duration": 11,
    "start_time": "2022-03-13T18:40:08.237Z"
   },
   {
    "duration": 45,
    "start_time": "2022-03-13T18:40:12.162Z"
   },
   {
    "duration": 11,
    "start_time": "2022-03-13T18:40:25.685Z"
   },
   {
    "duration": 45,
    "start_time": "2022-03-13T18:40:41.584Z"
   },
   {
    "duration": 3,
    "start_time": "2022-03-13T18:40:58.396Z"
   },
   {
    "duration": 44,
    "start_time": "2022-03-13T18:41:06.224Z"
   },
   {
    "duration": 13,
    "start_time": "2022-03-13T18:41:30.331Z"
   },
   {
    "duration": 46,
    "start_time": "2022-03-13T18:41:35.163Z"
   },
   {
    "duration": 47,
    "start_time": "2022-03-13T18:42:03.673Z"
   },
   {
    "duration": 57,
    "start_time": "2022-03-13T18:42:43.709Z"
   },
   {
    "duration": 27,
    "start_time": "2022-03-13T18:42:57.581Z"
   },
   {
    "duration": 3,
    "start_time": "2022-03-13T18:44:16.884Z"
   },
   {
    "duration": 152,
    "start_time": "2022-03-13T18:44:20.123Z"
   },
   {
    "duration": 13,
    "start_time": "2022-03-13T18:44:23.697Z"
   },
   {
    "duration": 24,
    "start_time": "2022-03-13T18:44:30.571Z"
   },
   {
    "duration": 5,
    "start_time": "2022-03-13T18:44:38.026Z"
   },
   {
    "duration": 23,
    "start_time": "2022-03-13T18:44:43.646Z"
   },
   {
    "duration": 4,
    "start_time": "2022-03-13T18:44:49.533Z"
   },
   {
    "duration": 25,
    "start_time": "2022-03-13T18:44:52.957Z"
   },
   {
    "duration": 18,
    "start_time": "2022-03-13T18:44:59.414Z"
   },
   {
    "duration": 30,
    "start_time": "2022-03-13T18:45:03.589Z"
   },
   {
    "duration": 61,
    "start_time": "2022-03-13T18:45:11.638Z"
   },
   {
    "duration": 57,
    "start_time": "2022-03-13T18:45:13.073Z"
   },
   {
    "duration": 3,
    "start_time": "2022-03-13T18:45:29.196Z"
   },
   {
    "duration": 57,
    "start_time": "2022-03-13T18:45:32.039Z"
   },
   {
    "duration": 245,
    "start_time": "2022-03-13T18:46:31.302Z"
   },
   {
    "duration": 257,
    "start_time": "2022-03-13T18:47:20.906Z"
   },
   {
    "duration": 71,
    "start_time": "2022-03-13T18:47:29.168Z"
   },
   {
    "duration": 62,
    "start_time": "2022-03-13T18:47:33.263Z"
   },
   {
    "duration": 44,
    "start_time": "2022-03-13T18:48:41.469Z"
   },
   {
    "duration": 3,
    "start_time": "2022-03-13T18:48:57.109Z"
   },
   {
    "duration": 22,
    "start_time": "2022-03-13T18:49:03.068Z"
   },
   {
    "duration": 49,
    "start_time": "2022-03-13T18:49:09.221Z"
   },
   {
    "duration": 14,
    "start_time": "2022-03-13T18:49:20.286Z"
   },
   {
    "duration": 5,
    "start_time": "2022-03-13T18:49:40.128Z"
   },
   {
    "duration": 4,
    "start_time": "2022-03-13T18:49:47.877Z"
   },
   {
    "duration": 44,
    "start_time": "2022-03-13T18:49:59.913Z"
   },
   {
    "duration": 76,
    "start_time": "2022-03-13T18:52:18.420Z"
   },
   {
    "duration": 244,
    "start_time": "2022-03-13T18:52:30.977Z"
   },
   {
    "duration": 217,
    "start_time": "2022-03-13T18:53:26.712Z"
   },
   {
    "duration": 48,
    "start_time": "2022-03-13T18:53:43.501Z"
   },
   {
    "duration": 11,
    "start_time": "2022-03-13T18:54:08.554Z"
   },
   {
    "duration": 12,
    "start_time": "2022-03-13T18:54:19.278Z"
   },
   {
    "duration": 14,
    "start_time": "2022-03-13T18:55:25.107Z"
   },
   {
    "duration": 44,
    "start_time": "2022-03-13T18:55:28.655Z"
   },
   {
    "duration": 6,
    "start_time": "2022-03-13T18:55:36.823Z"
   },
   {
    "duration": 3,
    "start_time": "2022-03-13T18:56:08.842Z"
   },
   {
    "duration": 150,
    "start_time": "2022-03-13T18:56:11.577Z"
   },
   {
    "duration": 19,
    "start_time": "2022-03-13T18:56:13.897Z"
   },
   {
    "duration": 27,
    "start_time": "2022-03-13T18:56:19.317Z"
   },
   {
    "duration": 6,
    "start_time": "2022-03-13T18:56:41.944Z"
   },
   {
    "duration": 16,
    "start_time": "2022-03-13T18:56:46.853Z"
   },
   {
    "duration": 4,
    "start_time": "2022-03-13T18:56:49.885Z"
   },
   {
    "duration": 24,
    "start_time": "2022-03-13T18:56:52.380Z"
   },
   {
    "duration": 20,
    "start_time": "2022-03-13T18:56:54.941Z"
   },
   {
    "duration": 23,
    "start_time": "2022-03-13T18:56:57.213Z"
   },
   {
    "duration": 56,
    "start_time": "2022-03-13T18:56:58.707Z"
   },
   {
    "duration": 71,
    "start_time": "2022-03-13T18:56:59.957Z"
   },
   {
    "duration": 60,
    "start_time": "2022-03-13T18:57:01.644Z"
   },
   {
    "duration": 42,
    "start_time": "2022-03-13T18:57:11.867Z"
   },
   {
    "duration": 50,
    "start_time": "2022-03-13T18:57:15.010Z"
   },
   {
    "duration": 42,
    "start_time": "2022-03-13T18:57:35.283Z"
   },
   {
    "duration": 40,
    "start_time": "2022-03-13T18:57:38.886Z"
   },
   {
    "duration": 43,
    "start_time": "2022-03-13T18:57:42.808Z"
   },
   {
    "duration": 3,
    "start_time": "2022-03-13T18:59:06.272Z"
   },
   {
    "duration": 13,
    "start_time": "2022-03-13T18:59:15.330Z"
   },
   {
    "duration": 6,
    "start_time": "2022-03-13T18:59:22.174Z"
   },
   {
    "duration": 41,
    "start_time": "2022-03-13T19:01:02.592Z"
   },
   {
    "duration": 45,
    "start_time": "2022-03-13T19:01:12.309Z"
   },
   {
    "duration": 16,
    "start_time": "2022-03-13T19:01:26.982Z"
   },
   {
    "duration": 48,
    "start_time": "2022-03-13T19:01:29.731Z"
   },
   {
    "duration": 11,
    "start_time": "2022-03-13T19:01:38.277Z"
   },
   {
    "duration": 12,
    "start_time": "2022-03-13T19:03:15.601Z"
   },
   {
    "duration": 5,
    "start_time": "2022-03-13T19:12:03.560Z"
   },
   {
    "duration": 73,
    "start_time": "2022-03-13T19:12:05.978Z"
   },
   {
    "duration": 590,
    "start_time": "2022-03-13T19:13:02.331Z"
   },
   {
    "duration": 4,
    "start_time": "2022-03-13T19:13:08.800Z"
   },
   {
    "duration": 6099,
    "start_time": "2022-03-13T19:13:12.618Z"
   },
   {
    "duration": 5,
    "start_time": "2022-03-13T19:14:06.519Z"
   },
   {
    "duration": 578,
    "start_time": "2022-03-13T19:14:14.675Z"
   },
   {
    "duration": 4,
    "start_time": "2022-03-13T19:15:04.546Z"
   },
   {
    "duration": 593,
    "start_time": "2022-03-13T19:15:43.859Z"
   },
   {
    "duration": 582,
    "start_time": "2022-03-13T19:15:54.629Z"
   },
   {
    "duration": 586,
    "start_time": "2022-03-13T19:16:02.116Z"
   },
   {
    "duration": 5873,
    "start_time": "2022-03-13T19:16:03.504Z"
   },
   {
    "duration": 22,
    "start_time": "2022-03-13T19:16:55.000Z"
   },
   {
    "duration": 28,
    "start_time": "2022-03-13T19:17:02.351Z"
   },
   {
    "duration": 5,
    "start_time": "2022-03-13T19:17:14.790Z"
   },
   {
    "duration": 384,
    "start_time": "2022-03-13T19:17:30.118Z"
   },
   {
    "duration": 5980,
    "start_time": "2022-03-13T19:17:44.395Z"
   },
   {
    "duration": 578,
    "start_time": "2022-03-13T19:18:06.501Z"
   },
   {
    "duration": 582,
    "start_time": "2022-03-13T19:18:14.632Z"
   },
   {
    "duration": 5669,
    "start_time": "2022-03-13T19:18:15.815Z"
   },
   {
    "duration": 5,
    "start_time": "2022-03-13T19:18:43.767Z"
   },
   {
    "duration": 16,
    "start_time": "2022-03-13T19:18:48.620Z"
   },
   {
    "duration": 5,
    "start_time": "2022-03-13T19:18:51.329Z"
   },
   {
    "duration": 14,
    "start_time": "2022-03-13T19:19:01.914Z"
   },
   {
    "duration": 5,
    "start_time": "2022-03-13T19:19:05.313Z"
   },
   {
    "duration": 21,
    "start_time": "2022-03-13T19:19:10.361Z"
   },
   {
    "duration": 13,
    "start_time": "2022-03-13T19:19:12.354Z"
   },
   {
    "duration": 5,
    "start_time": "2022-03-13T19:19:15.751Z"
   },
   {
    "duration": 16,
    "start_time": "2022-03-13T19:19:34.752Z"
   },
   {
    "duration": 4,
    "start_time": "2022-03-13T19:19:37.169Z"
   },
   {
    "duration": 5,
    "start_time": "2022-03-13T19:19:41.064Z"
   },
   {
    "duration": 16,
    "start_time": "2022-03-13T19:19:54.515Z"
   },
   {
    "duration": 5,
    "start_time": "2022-03-13T19:19:57.371Z"
   },
   {
    "duration": 4,
    "start_time": "2022-03-13T19:20:01.082Z"
   },
   {
    "duration": 3,
    "start_time": "2022-03-13T19:20:18.431Z"
   },
   {
    "duration": 206,
    "start_time": "2022-03-13T19:20:20.949Z"
   },
   {
    "duration": 17,
    "start_time": "2022-03-13T19:20:23.348Z"
   },
   {
    "duration": 27,
    "start_time": "2022-03-13T19:20:26.683Z"
   },
   {
    "duration": 5,
    "start_time": "2022-03-13T19:21:20.923Z"
   },
   {
    "duration": 14,
    "start_time": "2022-03-13T19:21:27.720Z"
   },
   {
    "duration": 4,
    "start_time": "2022-03-13T19:21:30.674Z"
   },
   {
    "duration": 38,
    "start_time": "2022-03-13T19:21:36.033Z"
   },
   {
    "duration": 21,
    "start_time": "2022-03-13T19:21:40.770Z"
   },
   {
    "duration": 27,
    "start_time": "2022-03-13T19:21:43.218Z"
   },
   {
    "duration": 68,
    "start_time": "2022-03-13T19:21:45.221Z"
   },
   {
    "duration": 70,
    "start_time": "2022-03-13T19:21:46.620Z"
   },
   {
    "duration": 82,
    "start_time": "2022-03-13T19:21:48.091Z"
   },
   {
    "duration": 76,
    "start_time": "2022-03-13T19:21:53.649Z"
   },
   {
    "duration": 4,
    "start_time": "2022-03-13T19:21:56.831Z"
   },
   {
    "duration": 14,
    "start_time": "2022-03-13T19:21:58.945Z"
   },
   {
    "duration": 56,
    "start_time": "2022-03-13T19:22:03.723Z"
   },
   {
    "duration": 13,
    "start_time": "2022-03-13T19:22:08.745Z"
   },
   {
    "duration": 13,
    "start_time": "2022-03-13T19:22:12.248Z"
   },
   {
    "duration": 4,
    "start_time": "2022-03-13T19:22:17.966Z"
   },
   {
    "duration": 76,
    "start_time": "2022-03-13T19:22:20.848Z"
   },
   {
    "duration": 36,
    "start_time": "2022-03-13T19:22:26.969Z"
   },
   {
    "duration": 32,
    "start_time": "2022-03-13T19:23:15.930Z"
   },
   {
    "duration": 20,
    "start_time": "2022-03-13T19:23:38.318Z"
   },
   {
    "duration": 24,
    "start_time": "2022-03-13T19:23:51.820Z"
   },
   {
    "duration": 21,
    "start_time": "2022-03-13T19:24:09.059Z"
   },
   {
    "duration": 25,
    "start_time": "2022-03-13T19:24:39.797Z"
   },
   {
    "duration": 34,
    "start_time": "2022-03-13T19:24:55.527Z"
   },
   {
    "duration": 17,
    "start_time": "2022-03-13T19:25:27.524Z"
   },
   {
    "duration": 17,
    "start_time": "2022-03-13T19:25:34.578Z"
   },
   {
    "duration": 5,
    "start_time": "2022-03-13T19:25:42.490Z"
   },
   {
    "duration": 26,
    "start_time": "2022-03-13T19:25:45.765Z"
   },
   {
    "duration": 29,
    "start_time": "2022-03-13T19:25:46.623Z"
   },
   {
    "duration": 35,
    "start_time": "2022-03-13T19:25:47.373Z"
   },
   {
    "duration": 32,
    "start_time": "2022-03-13T19:25:48.118Z"
   },
   {
    "duration": 36,
    "start_time": "2022-03-13T19:25:49.050Z"
   },
   {
    "duration": 28,
    "start_time": "2022-03-13T19:25:49.805Z"
   },
   {
    "duration": 5,
    "start_time": "2022-03-13T19:27:04.563Z"
   },
   {
    "duration": 33,
    "start_time": "2022-03-13T19:27:07.031Z"
   },
   {
    "duration": 16,
    "start_time": "2022-03-13T19:27:08.270Z"
   },
   {
    "duration": 21,
    "start_time": "2022-03-13T19:27:08.939Z"
   },
   {
    "duration": 15,
    "start_time": "2022-03-13T19:27:09.583Z"
   },
   {
    "duration": 25,
    "start_time": "2022-03-13T19:27:10.427Z"
   },
   {
    "duration": 21,
    "start_time": "2022-03-13T19:27:11.114Z"
   },
   {
    "duration": 230,
    "start_time": "2022-03-13T19:36:01.225Z"
   },
   {
    "duration": 5,
    "start_time": "2022-03-13T19:36:09.436Z"
   },
   {
    "duration": 5,
    "start_time": "2022-03-13T19:36:12.410Z"
   },
   {
    "duration": 11,
    "start_time": "2022-03-13T19:36:30.316Z"
   },
   {
    "duration": 8,
    "start_time": "2022-03-13T19:38:48.681Z"
   },
   {
    "duration": 7,
    "start_time": "2022-03-13T19:39:35.096Z"
   },
   {
    "duration": 8,
    "start_time": "2022-03-13T19:39:45.817Z"
   },
   {
    "duration": 80,
    "start_time": "2022-03-13T19:50:18.514Z"
   },
   {
    "duration": 74,
    "start_time": "2022-03-13T19:52:13.157Z"
   },
   {
    "duration": 76,
    "start_time": "2022-03-13T19:52:31.745Z"
   },
   {
    "duration": 5,
    "start_time": "2022-03-13T19:53:15.871Z"
   },
   {
    "duration": 3,
    "start_time": "2022-03-13T19:53:36.653Z"
   },
   {
    "duration": 547,
    "start_time": "2022-03-13T19:54:06.342Z"
   },
   {
    "duration": 449,
    "start_time": "2022-03-13T19:55:28.141Z"
   },
   {
    "duration": 491,
    "start_time": "2022-03-13T19:57:06.749Z"
   },
   {
    "duration": 5,
    "start_time": "2022-03-13T20:01:00.146Z"
   },
   {
    "duration": 3354,
    "start_time": "2022-03-13T20:01:04.208Z"
   },
   {
    "duration": 637,
    "start_time": "2022-03-13T20:01:10.352Z"
   },
   {
    "duration": 3055,
    "start_time": "2022-03-13T20:01:14.280Z"
   },
   {
    "duration": 5,
    "start_time": "2022-03-13T20:04:17.358Z"
   },
   {
    "duration": 25,
    "start_time": "2022-03-13T20:04:20.511Z"
   },
   {
    "duration": 24,
    "start_time": "2022-03-13T20:04:44.267Z"
   },
   {
    "duration": 27,
    "start_time": "2022-03-13T20:04:53.598Z"
   },
   {
    "duration": 27,
    "start_time": "2022-03-13T20:05:49.898Z"
   },
   {
    "duration": 30,
    "start_time": "2022-03-13T20:06:15.686Z"
   },
   {
    "duration": 21,
    "start_time": "2022-03-13T20:06:29.168Z"
   },
   {
    "duration": 12,
    "start_time": "2022-03-13T20:07:05.146Z"
   },
   {
    "duration": 28,
    "start_time": "2022-03-13T20:07:11.306Z"
   },
   {
    "duration": 23,
    "start_time": "2022-03-13T20:07:17.851Z"
   },
   {
    "duration": 13,
    "start_time": "2022-03-13T20:07:35.001Z"
   },
   {
    "duration": 8,
    "start_time": "2022-03-13T20:07:36.520Z"
   },
   {
    "duration": 5,
    "start_time": "2022-03-13T20:07:40.435Z"
   },
   {
    "duration": 25,
    "start_time": "2022-03-13T20:07:43.500Z"
   },
   {
    "duration": 37,
    "start_time": "2022-03-13T20:07:44.688Z"
   },
   {
    "duration": 32,
    "start_time": "2022-03-13T20:07:46.052Z"
   },
   {
    "duration": 32,
    "start_time": "2022-03-13T20:07:47.056Z"
   },
   {
    "duration": 14,
    "start_time": "2022-03-13T20:08:34.495Z"
   },
   {
    "duration": 9,
    "start_time": "2022-03-13T20:08:35.187Z"
   },
   {
    "duration": 24,
    "start_time": "2022-03-13T20:08:52.589Z"
   },
   {
    "duration": 24,
    "start_time": "2022-03-13T20:08:57.366Z"
   },
   {
    "duration": 24,
    "start_time": "2022-03-13T20:09:01.611Z"
   },
   {
    "duration": 24,
    "start_time": "2022-03-13T20:09:05.319Z"
   },
   {
    "duration": 20,
    "start_time": "2022-03-13T20:12:10.377Z"
   },
   {
    "duration": 12,
    "start_time": "2022-03-13T20:12:11.260Z"
   },
   {
    "duration": 6,
    "start_time": "2022-03-13T20:12:15.690Z"
   },
   {
    "duration": 28,
    "start_time": "2022-03-13T20:12:25.997Z"
   },
   {
    "duration": 24,
    "start_time": "2022-03-13T20:12:28.782Z"
   },
   {
    "duration": 25,
    "start_time": "2022-03-13T20:12:38.046Z"
   },
   {
    "duration": 26,
    "start_time": "2022-03-13T20:12:44.683Z"
   },
   {
    "duration": 19,
    "start_time": "2022-03-13T20:13:33.556Z"
   },
   {
    "duration": 9,
    "start_time": "2022-03-13T20:13:58.347Z"
   },
   {
    "duration": 8,
    "start_time": "2022-03-13T20:14:41.509Z"
   },
   {
    "duration": 20,
    "start_time": "2022-03-13T20:14:44.114Z"
   },
   {
    "duration": 14,
    "start_time": "2022-03-13T20:14:46.451Z"
   },
   {
    "duration": 20,
    "start_time": "2022-03-13T20:14:47.718Z"
   },
   {
    "duration": 16,
    "start_time": "2022-03-13T20:14:48.750Z"
   },
   {
    "duration": 3,
    "start_time": "2022-03-13T20:18:02.238Z"
   },
   {
    "duration": 229,
    "start_time": "2022-03-13T20:21:18.725Z"
   },
   {
    "duration": 268,
    "start_time": "2022-03-13T20:21:25.647Z"
   },
   {
    "duration": 9,
    "start_time": "2022-03-13T20:21:32.553Z"
   },
   {
    "duration": 6,
    "start_time": "2022-03-13T20:21:38.399Z"
   },
   {
    "duration": 8,
    "start_time": "2022-03-13T20:22:37.032Z"
   },
   {
    "duration": 6,
    "start_time": "2022-03-13T20:23:00.226Z"
   },
   {
    "duration": 49,
    "start_time": "2022-05-08T10:27:16.473Z"
   },
   {
    "duration": 374,
    "start_time": "2022-05-08T10:28:03.557Z"
   },
   {
    "duration": 687,
    "start_time": "2022-05-08T10:28:06.988Z"
   }
  ],
  "colab": {
   "collapsed_sections": [
    "E0vqbgi9ay0H",
    "VUC88oWjTJw2"
   ],
   "name": "yandex_music_project_2021.2.ipynb",
   "provenance": []
  },
  "kernelspec": {
   "display_name": "Python 3 (ipykernel)",
   "language": "python",
   "name": "python3"
  },
  "language_info": {
   "codemirror_mode": {
    "name": "ipython",
    "version": 3
   },
   "file_extension": ".py",
   "mimetype": "text/x-python",
   "name": "python",
   "nbconvert_exporter": "python",
   "pygments_lexer": "ipython3",
   "version": "3.9.13"
  },
  "toc": {
   "base_numbering": 1,
   "nav_menu": {},
   "number_sections": true,
   "sideBar": true,
   "skip_h1_title": true,
   "title_cell": "Table of Contents",
   "title_sidebar": "Contents",
   "toc_cell": false,
   "toc_position": {},
   "toc_section_display": true,
   "toc_window_display": true
  }
 },
 "nbformat": 4,
 "nbformat_minor": 1
}
